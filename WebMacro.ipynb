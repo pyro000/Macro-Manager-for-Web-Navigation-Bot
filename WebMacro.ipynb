{
 "cells": [
  {
   "cell_type": "code",
   "execution_count": 13,
   "id": "e6f2d3d9-e34c-4c80-866e-5499dd336386",
   "metadata": {},
   "outputs": [],
   "source": [
    "import subprocess\n",
    "def install(module=\"\"):\n",
    "    if not module:\n",
    "        module = input(\"Module: \")\n",
    "    result = subprocess.run(['venv/Scripts/pip','install', module], capture_output=True, text=True)\n",
    "    print(\"------------------------------------------------------------------------------\")\n",
    "    print(result.stdout if result.stdout else \"\")\n",
    "    print(result.stderr if result.stderr else \"\")\n",
    "    print(\"------------------------------------------------------------------------------\")"
   ]
  },
  {
   "cell_type": "code",
   "execution_count": 2,
   "id": "4249b3c5-181c-4219-afca-e08a01b78e95",
   "metadata": {},
   "outputs": [
    {
     "name": "stdin",
     "output_type": "stream",
     "text": [
      "Module:  selenium\n"
     ]
    },
    {
     "name": "stdout",
     "output_type": "stream",
     "text": [
      "------------------------------------------------------------------------------\n",
      "Collecting selenium\n",
      "  Using cached selenium-4.8.0-py3-none-any.whl (6.3 MB)\n",
      "Collecting urllib3[socks]~=1.26\n",
      "  Using cached urllib3-1.26.14-py2.py3-none-any.whl (140 kB)\n",
      "Collecting trio~=0.17\n",
      "  Using cached trio-0.22.0-py3-none-any.whl (384 kB)\n",
      "Collecting trio-websocket~=0.9\n",
      "  Using cached trio_websocket-0.9.2-py3-none-any.whl (16 kB)\n",
      "Collecting certifi>=2021.10.8\n",
      "  Using cached certifi-2022.12.7-py3-none-any.whl (155 kB)\n",
      "Collecting attrs>=19.2.0\n",
      "  Using cached attrs-22.2.0-py3-none-any.whl (60 kB)\n",
      "Collecting sortedcontainers\n",
      "  Using cached sortedcontainers-2.4.0-py2.py3-none-any.whl (29 kB)\n",
      "Collecting async-generator>=1.9\n",
      "  Using cached async_generator-1.10-py3-none-any.whl (18 kB)\n",
      "Collecting idna\n",
      "  Using cached idna-3.4-py3-none-any.whl (61 kB)\n",
      "Collecting outcome\n",
      "  Using cached outcome-1.2.0-py2.py3-none-any.whl (9.7 kB)\n",
      "Collecting sniffio\n",
      "  Using cached sniffio-1.3.0-py3-none-any.whl (10 kB)\n",
      "Collecting cffi>=1.14\n",
      "  Using cached cffi-1.15.1-cp311-cp311-win_amd64.whl (179 kB)\n",
      "Collecting wsproto>=0.14\n",
      "  Using cached wsproto-1.2.0-py3-none-any.whl (24 kB)\n",
      "Collecting PySocks!=1.5.7,<2.0,>=1.5.6\n",
      "  Using cached PySocks-1.7.1-py3-none-any.whl (16 kB)\n",
      "Collecting pycparser\n",
      "  Using cached pycparser-2.21-py2.py3-none-any.whl (118 kB)\n",
      "Collecting h11<1,>=0.9.0\n",
      "  Using cached h11-0.14.0-py3-none-any.whl (58 kB)\n",
      "Installing collected packages: sortedcontainers, urllib3, sniffio, PySocks, pycparser, idna, h11, certifi, attrs, async-generator, wsproto, outcome, cffi, trio, trio-websocket, selenium\n",
      "Successfully installed PySocks-1.7.1 async-generator-1.10 attrs-22.2.0 certifi-2022.12.7 cffi-1.15.1 h11-0.14.0 idna-3.4 outcome-1.2.0 pycparser-2.21 selenium-4.8.0 sniffio-1.3.0 sortedcontainers-2.4.0 trio-0.22.0 trio-websocket-0.9.2 urllib3-1.26.14 wsproto-1.2.0\n",
      "\n",
      "\n",
      "[notice] A new release of pip available: 22.3.1 -> 23.0\n",
      "[notice] To update, run: D:\\PythonProjects\\NoteProjects\\BotProject\\venv\\Scripts\\python.exe -m pip install --upgrade pip\n",
      "\n",
      "------------------------------------------------------------------------------\n"
     ]
    }
   ],
   "source": [
    "install()"
   ]
  },
  {
   "cell_type": "code",
   "execution_count": 3,
   "id": "03ef4c02-19ce-49a4-b90e-1dfe247c0993",
   "metadata": {},
   "outputs": [
    {
     "name": "stdout",
     "output_type": "stream",
     "text": [
      "------------------------------------------------------------------------------\n",
      "Requirement already satisfied: selenium in d:\\pythonprojects\\noteprojects\\botproject\\venv\\lib\\site-packages (4.8.0)\n",
      "Requirement already satisfied: urllib3[socks]~=1.26 in d:\\pythonprojects\\noteprojects\\botproject\\venv\\lib\\site-packages (from selenium) (1.26.14)\n",
      "Requirement already satisfied: trio~=0.17 in d:\\pythonprojects\\noteprojects\\botproject\\venv\\lib\\site-packages (from selenium) (0.22.0)\n",
      "Requirement already satisfied: trio-websocket~=0.9 in d:\\pythonprojects\\noteprojects\\botproject\\venv\\lib\\site-packages (from selenium) (0.9.2)\n",
      "Requirement already satisfied: certifi>=2021.10.8 in d:\\pythonprojects\\noteprojects\\botproject\\venv\\lib\\site-packages (from selenium) (2022.12.7)\n",
      "Requirement already satisfied: attrs>=19.2.0 in d:\\pythonprojects\\noteprojects\\botproject\\venv\\lib\\site-packages (from trio~=0.17->selenium) (22.2.0)\n",
      "Requirement already satisfied: sortedcontainers in d:\\pythonprojects\\noteprojects\\botproject\\venv\\lib\\site-packages (from trio~=0.17->selenium) (2.4.0)\n",
      "Requirement already satisfied: async-generator>=1.9 in d:\\pythonprojects\\noteprojects\\botproject\\venv\\lib\\site-packages (from trio~=0.17->selenium) (1.10)\n",
      "Requirement already satisfied: idna in d:\\pythonprojects\\noteprojects\\botproject\\venv\\lib\\site-packages (from trio~=0.17->selenium) (3.4)\n",
      "Requirement already satisfied: outcome in d:\\pythonprojects\\noteprojects\\botproject\\venv\\lib\\site-packages (from trio~=0.17->selenium) (1.2.0)\n",
      "Requirement already satisfied: sniffio in d:\\pythonprojects\\noteprojects\\botproject\\venv\\lib\\site-packages (from trio~=0.17->selenium) (1.3.0)\n",
      "Requirement already satisfied: cffi>=1.14 in d:\\pythonprojects\\noteprojects\\botproject\\venv\\lib\\site-packages (from trio~=0.17->selenium) (1.15.1)\n",
      "Requirement already satisfied: wsproto>=0.14 in d:\\pythonprojects\\noteprojects\\botproject\\venv\\lib\\site-packages (from trio-websocket~=0.9->selenium) (1.2.0)\n",
      "Requirement already satisfied: PySocks!=1.5.7,<2.0,>=1.5.6 in d:\\pythonprojects\\noteprojects\\botproject\\venv\\lib\\site-packages (from urllib3[socks]~=1.26->selenium) (1.7.1)\n",
      "Requirement already satisfied: pycparser in d:\\pythonprojects\\noteprojects\\botproject\\venv\\lib\\site-packages (from cffi>=1.14->trio~=0.17->selenium) (2.21)\n",
      "Requirement already satisfied: h11<1,>=0.9.0 in d:\\pythonprojects\\noteprojects\\botproject\\venv\\lib\\site-packages (from wsproto>=0.14->trio-websocket~=0.9->selenium) (0.14.0)\n",
      "\n",
      "\n",
      "[notice] A new release of pip available: 22.3.1 -> 23.0\n",
      "[notice] To update, run: D:\\PythonProjects\\NoteProjects\\BotProject\\venv\\Scripts\\python.exe -m pip install --upgrade pip\n",
      "\n",
      "------------------------------------------------------------------------------\n",
      "------------------------------------------------------------------------------\n",
      "Collecting chromedriver-binary\n",
      "  Using cached chromedriver-binary-110.0.5481.30.0.tar.gz (5.1 kB)\n",
      "  Preparing metadata (setup.py): started\n",
      "  Preparing metadata (setup.py): finished with status 'done'\n",
      "Installing collected packages: chromedriver-binary\n",
      "  Running setup.py install for chromedriver-binary: started\n",
      "  Running setup.py install for chromedriver-binary: finished with status 'done'\n",
      "Successfully installed chromedriver-binary-110.0.5481.30.0\n",
      "\n",
      "  DEPRECATION: chromedriver-binary is being installed using the legacy 'setup.py install' method, because it does not have a 'pyproject.toml' and the 'wheel' package is not installed. pip 23.1 will enforce this behaviour change. A possible replacement is to enable the '--use-pep517' option. Discussion can be found at https://github.com/pypa/pip/issues/8559\n",
      "\n",
      "[notice] A new release of pip available: 22.3.1 -> 23.0\n",
      "[notice] To update, run: D:\\PythonProjects\\NoteProjects\\BotProject\\venv\\Scripts\\python.exe -m pip install --upgrade pip\n",
      "\n",
      "------------------------------------------------------------------------------\n",
      "------------------------------------------------------------------------------\n",
      "Collecting pandas\n",
      "  Using cached pandas-1.5.3-cp311-cp311-win_amd64.whl (10.3 MB)\n",
      "Requirement already satisfied: python-dateutil>=2.8.1 in d:\\pythonprojects\\noteprojects\\botproject\\venv\\lib\\site-packages (from pandas) (2.8.2)\n",
      "Collecting pytz>=2020.1\n",
      "  Using cached pytz-2022.7.1-py2.py3-none-any.whl (499 kB)\n",
      "Collecting numpy>=1.21.0\n",
      "  Using cached numpy-1.24.1-cp311-cp311-win_amd64.whl (14.8 MB)\n",
      "Requirement already satisfied: six>=1.5 in d:\\pythonprojects\\noteprojects\\botproject\\venv\\lib\\site-packages (from python-dateutil>=2.8.1->pandas) (1.16.0)\n",
      "Installing collected packages: pytz, numpy, pandas\n",
      "Successfully installed numpy-1.24.1 pandas-1.5.3 pytz-2022.7.1\n",
      "\n",
      "\n",
      "[notice] A new release of pip available: 22.3.1 -> 23.0\n",
      "[notice] To update, run: D:\\PythonProjects\\NoteProjects\\BotProject\\venv\\Scripts\\python.exe -m pip install --upgrade pip\n",
      "\n",
      "------------------------------------------------------------------------------\n",
      "------------------------------------------------------------------------------\n",
      "Collecting bs4\n",
      "  Using cached bs4-0.0.1.tar.gz (1.1 kB)\n",
      "  Preparing metadata (setup.py): started\n",
      "  Preparing metadata (setup.py): finished with status 'done'\n",
      "Collecting beautifulsoup4\n",
      "  Using cached beautifulsoup4-4.11.2-py3-none-any.whl (129 kB)\n",
      "Collecting soupsieve>1.2\n",
      "  Using cached soupsieve-2.3.2.post1-py3-none-any.whl (37 kB)\n",
      "Installing collected packages: soupsieve, beautifulsoup4, bs4\n",
      "  Running setup.py install for bs4: started\n",
      "  Running setup.py install for bs4: finished with status 'done'\n",
      "Successfully installed beautifulsoup4-4.11.2 bs4-0.0.1 soupsieve-2.3.2.post1\n",
      "\n",
      "  DEPRECATION: bs4 is being installed using the legacy 'setup.py install' method, because it does not have a 'pyproject.toml' and the 'wheel' package is not installed. pip 23.1 will enforce this behaviour change. A possible replacement is to enable the '--use-pep517' option. Discussion can be found at https://github.com/pypa/pip/issues/8559\n",
      "\n",
      "[notice] A new release of pip available: 22.3.1 -> 23.0\n",
      "[notice] To update, run: D:\\PythonProjects\\NoteProjects\\BotProject\\venv\\Scripts\\python.exe -m pip install --upgrade pip\n",
      "\n",
      "------------------------------------------------------------------------------\n"
     ]
    }
   ],
   "source": [
    "install(\"selenium\")\n",
    "install(\"chromedriver-binary\")\n",
    "install(\"pandas\")\n",
    "install(\"bs4\")"
   ]
  },
  {
   "cell_type": "code",
   "execution_count": 24,
   "id": "e9b126ed-f2c0-4c8d-861b-56c4d773da74",
   "metadata": {},
   "outputs": [],
   "source": [
    "from selenium import webdriver as wd\n",
    "import chromedriver_binary\n",
    "import random\n",
    "import time\n",
    "import os\n",
    "import re\n",
    "import pandas as pd\n",
    "from IPython.display import clear_output\n",
    "from bs4 import BeautifulSoup\n",
    "from selenium.webdriver.common.by import By\n",
    "from selenium.webdriver.support import expected_conditions as EC\n",
    "from selenium.webdriver.support.ui import WebDriverWait\n",
    "from selenium.webdriver.common.keys import Keys\n",
    "from selenium.common.exceptions import WebDriverException"
   ]
  },
  {
   "cell_type": "code",
   "execution_count": 25,
   "id": "b36e6b07-229a-49e9-ae97-ffd5e0416895",
   "metadata": {},
   "outputs": [],
   "source": [
    "class Element:\n",
    "    def __init__(self, xpath, action=\"-click-\", wait=False, sleep=0.0):\n",
    "        self.xpath = xpath\n",
    "        self.action = action\n",
    "        self.wait = wait\n",
    "        self.sleep = sleep"
   ]
  },
  {
   "cell_type": "code",
   "execution_count": 26,
   "id": "ba37c289-2661-43b1-8ce5-091ca54aec55",
   "metadata": {},
   "outputs": [],
   "source": [
    "l_elm = []\n",
    "page = \"\""
   ]
  },
  {
   "cell_type": "code",
   "execution_count": 27,
   "id": "2ba1a3b0-d5e2-494b-8859-d109667cf8ee",
   "metadata": {},
   "outputs": [],
   "source": [
    "t_s = 0.5\n",
    "def do_element(d, xpath, action=\"-click-\", wait=False, sleep=0):\n",
    "    global t_s\n",
    "    if d and d.service.is_connectable():\n",
    "        try:\n",
    "            el = WebDriverWait(d, 10).until(EC.presence_of_element_located((By.XPATH, xpath))) if wait else \\\n",
    "            d.find_element(by=By.XPATH, value=xpath)\n",
    "        except:\n",
    "            print(\"Not found.\")\n",
    "            return\n",
    "        if action == \"-click-\":\n",
    "            el.click()\n",
    "        elif action == \"-none-\":\n",
    "            print(\"Found element.\")\n",
    "        elif action == \"-wait-\":\n",
    "            input(\"Waiting Enter.\")\n",
    "        else:\n",
    "            el.send_keys(action)\n",
    "        if sleep:\n",
    "            time.sleep(sleep)\n",
    "    else:\n",
    "        print(\"Driver not found.\")"
   ]
  },
  {
   "cell_type": "code",
   "execution_count": 18,
   "id": "5007a3d7-ce7f-4824-8cf9-2d2fed2f0e4f",
   "metadata": {
    "tags": []
   },
   "outputs": [],
   "source": [
    "def file_elements(namefile, load=False):\n",
    "    global l_elm, page\n",
    "    \n",
    "    if load:\n",
    "        with open (f\"{namefile}.txt\", \"r\") as f:\n",
    "            l_elm = []\n",
    "            data = f.read().splitlines()\n",
    "            for d in data:\n",
    "                p = re.findall(r'\\{\\{(.*)\\}\\}', d)\n",
    "                page = p[0] if p else page\n",
    "                elm = d.split(\";;\")\n",
    "                if len(elm) == 4:\n",
    "                    l_elm.append(Element(elm[0], elm[1], elm[2], float(elm[3])))\n",
    "    else:\n",
    "        with open(f'{namefile}.txt', 'w') as f:\n",
    "            f.write(f'{{{{{page}}}}}\\n')\n",
    "            for elm in l_elm:\n",
    "                f.write(f'{elm.xpath};;{elm.action};;{elm.wait};;{elm.sleep}\\n')\n",
    "    print(\"Done.\")"
   ]
  },
  {
   "cell_type": "code",
   "execution_count": 19,
   "id": "b97c283b-eabb-4b57-b542-c64e051284bf",
   "metadata": {
    "tags": []
   },
   "outputs": [],
   "source": [
    "def add_elm():\n",
    "    global l_elm\n",
    "    \n",
    "    xp = input(\"XPath: \")\n",
    "    ac = input(\"Action (Click): \")\n",
    "    ac = \"-click-\" if ac == \"\" else ac\n",
    "    wa = False if input(\"Wait (y/N) : \") not in [\"y\", \"Y\"] else True\n",
    "    sl = input(\"Time Sleep (default 0) : \")\n",
    "    sl = 0 if sl not in \"123456789\" or not sl else float(sl)\n",
    "      \n",
    "    if xp:\n",
    "        l_elm.append(Element(xp, ac, wa, sl))\n",
    "        print(\"Done.\")\n",
    "    else:\n",
    "        print(\"Error: Xpath not defined.\")"
   ]
  },
  {
   "cell_type": "code",
   "execution_count": 20,
   "id": "7c89ca71-c139-4f75-9c6e-b3248e8e721c",
   "metadata": {
    "tags": []
   },
   "outputs": [],
   "source": [
    "def init_driver(headless=False):\n",
    "    global page\n",
    "    options = wd.ChromeOptions()\n",
    "    if headless:\n",
    "        options.add_argument(\"--headless\")\n",
    "    d = wd.Chrome(options=options)\n",
    "    d.implicitly_wait(5)\n",
    "    if page:\n",
    "        d.get(page)\n",
    "    return d"
   ]
  },
  {
   "cell_type": "code",
   "execution_count": 21,
   "id": "e25e55c8-d808-456b-9a8f-544a5efaaf88",
   "metadata": {
    "tags": []
   },
   "outputs": [],
   "source": [
    "def driver_calive(d, sil=False, act=True):\n",
    "    if not d or not d.service.is_connectable():\n",
    "        return init_driver(sil) if act else False\n",
    "    try:\n",
    "        d.title\n",
    "        return d if act else True\n",
    "    except WebDriverException:\n",
    "        return init_driver(sil) if act else False\n",
    "    "
   ]
  },
  {
   "cell_type": "code",
   "execution_count": null,
   "id": "286ed665-67d3-4ce7-8142-b55247c1f926",
   "metadata": {},
   "outputs": [
    {
     "name": "stdout",
     "output_type": "stream",
     "text": [
      "--------------\n"
     ]
    },
    {
     "name": "stdin",
     "output_type": "stream",
     "text": [
      "Press Enter to sequence each element added. (c to cancel)(page for not page) \n"
     ]
    },
    {
     "name": "stdout",
     "output_type": "stream",
     "text": [
      "Not found.\n",
      "Not found.\n",
      "Not found.\n",
      "Not found.\n",
      "Not found.\n",
      "Not found.\n",
      "Not found.\n",
      "Not found.\n",
      "Done.\n",
      "--------------\n",
      "1.- Add\n",
      "2.- Remove\n",
      "3.- List\n",
      "4.- Test\n",
      "5.- Sequence\n",
      "6.- Import\n",
      "7.- Export\n",
      "8.- Toggle Silent\n",
      "9.- Close\n",
      "--------------\n"
     ]
    }
   ],
   "source": [
    "print(\"Bot Recorder\")\n",
    "d = init_driver()\n",
    "sil = False\n",
    "while True:\n",
    "    print(\"--------------\")\n",
    "    print(\"1.- Add\")\n",
    "    print(\"2.- Remove\")\n",
    "    print(\"3.- List\")\n",
    "    print(\"4.- Test\")\n",
    "    print(\"5.- Sequence\")\n",
    "    print(\"6.- Import\")\n",
    "    print(\"7.- Export\")\n",
    "    print(\"8.- Toggle Silent\")\n",
    "    print(\"9.- Close\")\n",
    "    print(\"--------------\")\n",
    "    inp = input(\"Order >\")\n",
    "    clear_output()\n",
    "    print(\"--------------\")\n",
    "    \n",
    "    if inp not in \"123456789\":\n",
    "        print(\"Choose 1-9.\")\n",
    "        continue\n",
    "    else:\n",
    "        inp = int(inp)\n",
    "    \n",
    "    d = driver_calive(d, sil)\n",
    "        \n",
    "    if inp == 1:\n",
    "        add_elm()\n",
    "        if l_elm:\n",
    "            inp = input(\"Test? (y/N): \")\n",
    "            if inp in [\"y\", \"Y\"]:\n",
    "                do_element(d, l_elm[-1].xpath, '-none-', l_elm[-1].wait, l_elm[-1].sleep)\n",
    "    elif inp == 2:\n",
    "        print(\"Page: \", page)\n",
    "        for i, elm in enumerate(l_elm):\n",
    "            print(f\"{i+1}.- {elm.xpath} {elm.action} {elm.wait} {elm.sleep}\")\n",
    "        inp = input(\"Enter Number (c to cancel)(page to page)\")\n",
    "        if inp == \"c\":\n",
    "            continue\n",
    "        if inp == \"page\":\n",
    "            page = \"\"\n",
    "            continue\n",
    "        inp = len(l_elm)-1 if inp == \"\" or inp == \"0\" or inp not in \"123456789\" else int(inp)-1\n",
    "        l_elm.pop(inp)\n",
    "    elif inp == 3:\n",
    "        print(\"Page: \", page)\n",
    "        if l_elm:\n",
    "            for i, elm in enumerate(l_elm):\n",
    "                print(f\"{i+1}.- {elm.xpath} {elm.action} {elm.wait} {elm.sleep}\")\n",
    "    elif inp == 4:\n",
    "        if l_elm:\n",
    "            print(\"Page: \", page)\n",
    "            for i, elm in enumerate(l_elm):\n",
    "                print(f\"{i+1}.- {elm.xpath} {elm.action} {elm.wait} {elm.sleep}\")\n",
    "            inp = input(\"Enter Number (c to cancel)\")\n",
    "            if inp == \"c\":\n",
    "                continue\n",
    "            inp = len(l_elm)-1 if inp == \"\" or inp == \"0\" or inp not in \"123456789\" else int(inp)-1\n",
    "            inp_1 = input(\"Do Action? (Y/n): \")\n",
    "            inp_1 = \"-none-\" if inp_1 in [\"N\", \"n\"] else l_elm[inp].action\n",
    "            inp_2 = input(\"Use Page? (y/N): \")\n",
    "            if inp_2 in [\"Y\", \"y\"]:\n",
    "                d = init_driver(sil)\n",
    "            do_element(d, l_elm[inp].xpath, inp_1, l_elm[inp].wait, l_elm[inp].sleep)\n",
    "                           \n",
    "        else:\n",
    "            print(\"List not found\")\n",
    "            add_elm()\n",
    "            do_element(d, l_elm[-1].xpath, l_elm[-1].action, l_elm[-1].wait, l_elm[-1].sleep)\n",
    "    \n",
    "    elif inp == 5:\n",
    "        inp = input(\"Press Enter to sequence each element added. (c to cancel)(page for not page)\")\n",
    "        if inp == \"c\":\n",
    "            continue\n",
    "        if inp != \"page\":\n",
    "            d = init_driver(sil)\n",
    "        for elm in l_elm:\n",
    "            do_element(d, elm.xpath, elm.action, elm.wait, elm.sleep)\n",
    "        print(\"Done.\")\n",
    "    \n",
    "    elif inp == 6:\n",
    "        inp = input(\"Namefile (.txt)(empty to cancel): \")\n",
    "        if not inp:\n",
    "            continue\n",
    "        if os.path.exists(f\"{inp}.txt\"):\n",
    "            file_elements(inp, True)\n",
    "            print(\"Imported.\")\n",
    "        else:\n",
    "            print(f\"File {inp}.txt doesn't exist.\")\n",
    "    \n",
    "    elif inp == 7:\n",
    "        inp = input(\"Namefile (.txt)(empty to cancel): \")\n",
    "        if not inp:\n",
    "            continue\n",
    "        file_elements(inp)\n",
    "        print(\"Exported.\")\n",
    "        \n",
    "    elif inp == 8:\n",
    "        print(\"Done.\")\n",
    "        sil = not sil\n",
    "        d = init_driver(sil)\n",
    "    \n",
    "    elif inp == 9:\n",
    "        print(\"Closed.\")\n",
    "        break\n",
    "d.close()"
   ]
  },
  {
   "cell_type": "code",
   "execution_count": null,
   "id": "8acc40ca-03b4-4e20-b619-46ce4b7f35ba",
   "metadata": {},
   "outputs": [],
   "source": []
  },
  {
   "cell_type": "code",
   "execution_count": null,
   "id": "c3d321b0-1d1c-48de-b6a5-5f4c6178c5f6",
   "metadata": {},
   "outputs": [],
   "source": []
  },
  {
   "cell_type": "code",
   "execution_count": 51,
   "id": "0db8f380-9e20-4341-a33f-b9201af97225",
   "metadata": {},
   "outputs": [],
   "source": [
    "wd = wd.Chrome()\n",
    "wd.implicitly_wait(10)"
   ]
  },
  {
   "cell_type": "code",
   "execution_count": 71,
   "id": "83a817ba-24f2-4ee5-ac8d-96191af4c2ca",
   "metadata": {},
   "outputs": [],
   "source": [
    "wd.get(\"https://cloud.google.com/\")"
   ]
  },
  {
   "cell_type": "code",
   "execution_count": 72,
   "id": "152d347c-0b87-4005-920c-7c54b5a4634d",
   "metadata": {},
   "outputs": [],
   "source": [
    "el = WebDriverWait(wd, 10).until(\n",
    "      # Please Change These Down Below\n",
    "        EC.presence_of_element_located((By.XPATH, '//*[@id=\"devsite-user\"]/div/a'))\n",
    "    )\n",
    "el.click()"
   ]
  },
  {
   "cell_type": "code",
   "execution_count": 73,
   "id": "61f25e25-6f74-4aa4-a022-8bb64deaf3cf",
   "metadata": {},
   "outputs": [],
   "source": [
    "el = WebDriverWait(wd, 10).until(\n",
    "      # Please Change These Down Below\n",
    "        EC.presence_of_element_located((By.XPATH, '//*[@id=\"identifierId\"]'))\n",
    "    )\n",
    "el.send_keys(\"pyrosvchl5\")\n",
    "time.sleep(t_s)"
   ]
  },
  {
   "cell_type": "code",
   "execution_count": 74,
   "id": "de869175-58d8-465c-be02-a60786cdf5f7",
   "metadata": {},
   "outputs": [],
   "source": [
    "el = wd.find_element(by=By.XPATH, value='//*[@id=\"identifierNext\"]/div/button')\n",
    "el.click()"
   ]
  },
  {
   "cell_type": "code",
   "execution_count": 75,
   "id": "8c7263fb-97c4-4b4d-ab0f-62970881df4d",
   "metadata": {},
   "outputs": [],
   "source": [
    "el = WebDriverWait(wd, 10).until(\n",
    "      # Please Change These Down Below\n",
    "        EC.presence_of_element_located((By.XPATH, '//*[@id=\"password\"]/div[1]/div/div[1]/input'))\n",
    "    )\n",
    "el.send_keys(\"pyro2000\")\n",
    "time.sleep(t_s)"
   ]
  },
  {
   "cell_type": "code",
   "execution_count": 76,
   "id": "e898ce65-b485-4c43-a2f6-6414f002eded",
   "metadata": {},
   "outputs": [],
   "source": [
    "el = wd.find_element(by=By.XPATH, value='//*[@id=\"passwordNext\"]/div/button')\n",
    "el.click()"
   ]
  },
  {
   "cell_type": "code",
   "execution_count": 77,
   "id": "9ca281cb-8247-4855-aa4b-bd708925448a",
   "metadata": {},
   "outputs": [],
   "source": [
    "el = WebDriverWait(wd, 10).until(\n",
    "      # Please Change These Down Below\n",
    "        EC.presence_of_element_located((By.XPATH, '//*[@id=\"cloud-site\"]/div[2]/section[1]/div/div[1]/div/div/div/cloudx-free-trial-eligible-content/slot/a[1]'))\n",
    "    )\n",
    "el.click()\n",
    "time.sleep(t_s)"
   ]
  },
  {
   "cell_type": "code",
   "execution_count": 102,
   "id": "6a66e466-c111-4fb2-bc98-8aed1eea1d78",
   "metadata": {},
   "outputs": [],
   "source": [
    "wd.switch_to.window(wd.window_handles[-1])"
   ]
  },
  {
   "cell_type": "code",
   "execution_count": 103,
   "id": "83b0848d-278b-4eb4-b479-080c0014bf19",
   "metadata": {},
   "outputs": [],
   "source": [
    "el = WebDriverWait(wd, 10).until(\n",
    "      # Please Change These Down Below\n",
    "        EC.presence_of_element_located((By.XPATH, '//*[@id=\"_0rif_mat-form-field-label-3\"]'))\n",
    "    )\n",
    "el.click()\n",
    "time.sleep(t_s)"
   ]
  },
  {
   "cell_type": "code",
   "execution_count": 104,
   "id": "1e2f3c50-5a40-4cfe-b8c8-21854672ebce",
   "metadata": {},
   "outputs": [],
   "source": [
    "el = WebDriverWait(wd, 10).until(\n",
    "      # Please Change These Down Below\n",
    "        EC.presence_of_element_located((By.XPATH, '//*[@id=\"_0rif_mat-option-226\"]'))\n",
    "    )\n",
    "el.click()\n",
    "time.sleep(t_s)"
   ]
  },
  {
   "cell_type": "code",
   "execution_count": 105,
   "id": "81195676-7dd5-488a-a02f-7bc61a406273",
   "metadata": {},
   "outputs": [],
   "source": [
    "el = wd.find_element(by=By.XPATH, value='//*[@id=\"_0rif_mat-checkbox-1\"]/label/span[1]')\n",
    "el.click()\n",
    "time.sleep(t_s)"
   ]
  },
  {
   "cell_type": "code",
   "execution_count": 106,
   "id": "31aa975c-ac1e-45c0-b883-ab5b35615c6e",
   "metadata": {},
   "outputs": [],
   "source": [
    "el = wd.find_element(by=By.XPATH, value='//*[@id=\"main\"]/div/div/central-page-area/div/div/pcc-content-viewport/div/div/pangolin-home/cfc-router-outlet/div/ng-component/signup-page/div/div/div[2]/div/div[1]/div[2]/div/cfc-router-outlet/div/cfc-free-trial-tos-form/form/signup-form-button-row/div/div/cfc-progress-button/div[1]/button')\n",
    "el.click()"
   ]
  },
  {
   "cell_type": "code",
   "execution_count": 113,
   "id": "724ecb9c-f934-495e-ba6f-da7d2d8a3509",
   "metadata": {},
   "outputs": [
    {
     "name": "stdout",
     "output_type": "stream",
     "text": [
      "Done, now to next step.\n"
     ]
    }
   ],
   "source": [
    "el = WebDriverWait(wd, 10).until(\n",
    "      # Please Change These Down Below\n",
    "        EC.presence_of_element_located((By.XPATH, '//*[@id=\"main\"]/div/div/central-page-area/div/div/pcc-content-viewport/div/div/pangolin-home/cfc-router-outlet/div/ng-component/signup-page/div/div/div[2]/div/div[1]/div[2]/div/cfc-router-outlet/div/cfc-free-trial-billing-form/form/signup-form-button-row/div/div/cfc-progress-button/div[1]/button'))\n",
    "    )\n",
    "print(\"Done, now to next step.\")"
   ]
  },
  {
   "cell_type": "code",
   "execution_count": 5,
   "id": "42a1ec5f-13bd-402e-8ec4-dca48d1b773e",
   "metadata": {},
   "outputs": [],
   "source": [
    "soup = BeautifulSoup(wd.page_source,features=\"html.parser\")\n",
    "\n",
    "items = soup.find(\"input\", {\"class\": \"gLFyf gsfi\"})\n",
    "\n",
    "print(items)"
   ]
  },
  {
   "cell_type": "code",
   "execution_count": 10,
   "id": "3a62160d-47fe-4c1e-993c-8793c17f97bf",
   "metadata": {},
   "outputs": [],
   "source": [
    "soup = BeautifulSoup(wd.page_source,features=\"html.parser\")\n",
    "items = soup.find(\"div\", {\"class\": \"c8d6zd xWMiCc REww7c\"})\n",
    "\n",
    "print(items.text)"
   ]
  }
 ],
 "metadata": {
  "kernelspec": {
   "display_name": "BotProject_1",
   "language": "python",
   "name": "botproject_1"
  },
  "language_info": {
   "codemirror_mode": {
    "name": "ipython",
    "version": 3
   },
   "file_extension": ".py",
   "mimetype": "text/x-python",
   "name": "python",
   "nbconvert_exporter": "python",
   "pygments_lexer": "ipython3",
   "version": "3.11.1"
  }
 },
 "nbformat": 4,
 "nbformat_minor": 5
}
